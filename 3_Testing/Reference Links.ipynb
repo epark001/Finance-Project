{
 "cells": [
  {
   "cell_type": "code",
   "execution_count": null,
   "metadata": {
    "collapsed": true
   },
   "outputs": [],
   "source": [
    "reference links\n",
    "candle stick using plotly\n",
    "https://plot.ly/python/candlestick-charts/\n",
    "\n",
    "candle stick from dataframe\n",
    "https://stackoverflow.com/questions/42437349/candlestick-plot-from-a-pandas-dataframe\n",
    "    \n",
    "candle stick using matplotlib ohlc\n",
    "https://pythonprogramming.net/candlestick-ohlc-graph-matplotlib-tutorial/"
   ]
  }
 ],
 "metadata": {
  "kernelspec": {
   "display_name": "Python 3",
   "language": "python",
   "name": "python3"
  },
  "language_info": {
   "codemirror_mode": {
    "name": "ipython",
    "version": 3
   },
   "file_extension": ".py",
   "mimetype": "text/x-python",
   "name": "python",
   "nbconvert_exporter": "python",
   "pygments_lexer": "ipython3",
   "version": "3.6.1"
  }
 },
 "nbformat": 4,
 "nbformat_minor": 2
}
